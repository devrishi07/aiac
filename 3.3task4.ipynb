{
  "nbformat": 4,
  "nbformat_minor": 0,
  "metadata": {
    "colab": {
      "provenance": [],
      "authorship_tag": "ABX9TyNitDyTXHsMrN0vyF2zJNLX",
      "include_colab_link": true
    },
    "kernelspec": {
      "name": "python3",
      "display_name": "Python 3"
    },
    "language_info": {
      "name": "python"
    }
  },
  "cells": [
    {
      "cell_type": "markdown",
      "metadata": {
        "id": "view-in-github",
        "colab_type": "text"
      },
      "source": [
        "<a href=\"https://colab.research.google.com/github/devrishi07/aiac/blob/main/3.3task4.ipynb\" target=\"_parent\"><img src=\"https://colab.research.google.com/assets/colab-badge.svg\" alt=\"Open In Colab\"/></a>"
      ]
    },
    {
      "cell_type": "code",
      "source": [],
      "metadata": {
        "id": "0qq4BCi9KA0m"
      },
      "execution_count": null,
      "outputs": []
    },
    {
      "cell_type": "code",
      "source": [
        "# A simple dictionary to store registered users (username: password)\n",
        "registered_users = {}\n",
        "\n",
        "def register_user(username, password):\n",
        "  \"\"\"Registers a new user.\n",
        "\n",
        "  Args:\n",
        "    username: The username for the new user.\n",
        "    password: The password for the new user.\n",
        "\n",
        "  Returns:\n",
        "    True if registration is successful, False otherwise (e.g., username already exists).\n",
        "  \"\"\"\n",
        "  if username in registered_users:\n",
        "    print(f\"Username '{username}' already exists.\")\n",
        "    return False\n",
        "  else:\n",
        "    registered_users[username] = password\n",
        "    print(f\"User '{username}' registered successfully.\")\n",
        "    return True\n",
        "\n",
        "def login_user(username, password):\n",
        "  \"\"\"Logs in an existing user.\n",
        "\n",
        "  Args:\n",
        "    username: The username to log in.\n",
        "    password: The password for the user.\n",
        "\n",
        "  Returns:\n",
        "    True if login is successful, False otherwise (e.g., incorrect username or password).\n",
        "  \"\"\"\n",
        "  if username in registered_users and registered_users[username] == password:\n",
        "    print(f\"User '{username}' logged in successfully.\")\n",
        "    return True\n",
        "  else:\n",
        "    print(\"Invalid username or password.\")\n",
        "    return False\n",
        "\n",
        "# Example Usage:\n",
        "register_user(\"testuser\", \"password123\")\n",
        "login_user(\"testuser\", \"password123\")\n",
        "login_user(\"wronguser\", \"wrongpassword\")\n",
        "login_user(\"testuser\", \"wrongpassword\")"
      ],
      "metadata": {
        "id": "YIhO2bxsJ9WO"
      },
      "execution_count": null,
      "outputs": []
    }
  ]
}