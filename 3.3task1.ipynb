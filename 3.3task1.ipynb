{
  "nbformat": 4,
  "nbformat_minor": 0,
  "metadata": {
    "colab": {
      "provenance": [],
      "authorship_tag": "ABX9TyORI5HbzoHJQBKI/ga5ixou",
      "include_colab_link": true
    },
    "kernelspec": {
      "name": "python3",
      "display_name": "Python 3"
    },
    "language_info": {
      "name": "python"
    }
  },
  "cells": [
    {
      "cell_type": "markdown",
      "metadata": {
        "id": "view-in-github",
        "colab_type": "text"
      },
      "source": [
        "<a href=\"https://colab.research.google.com/github/devrishi07/aiac/blob/main/3.3task1.ipynb\" target=\"_parent\"><img src=\"https://colab.research.google.com/assets/colab-badge.svg\" alt=\"Open In Colab\"/></a>"
      ]
    },
    {
      "cell_type": "code",
      "execution_count": null,
      "metadata": {
        "id": "XPsPyGalJkzW"
      },
      "outputs": [],
      "source": [
        "\n",
        "def factorial(n):\n",
        "  \"\"\"\n",
        "  Calculates the factorial of a non-negative integer.\n",
        "\n",
        "  Args:\n",
        "    n: A non-negative integer.\n",
        "\n",
        "  Returns:\n",
        "    The factorial of n.\n",
        "  \"\"\"\n",
        "  if n == 0:\n",
        "    return 1\n",
        "  else:\n",
        "    return n * factorial(n-1)\n",
        "\n",
        "# Get input from the user\n",
        "try:\n",
        "  num = int(input(\"Enter a non-negative integer: \"))\n",
        "  if num < 0:\n",
        "    print(\"Factorial is not defined for negative numbers.\")\n",
        "  else:\n",
        "    print(f\"The factorial of {num} is {factorial(num)}\")\n",
        "except ValueError:\n",
        "  print(\"Invalid input. Please enter an integer.\")"
      ]
    },
    {
      "cell_type": "code",
      "metadata": {
        "id": "3c715cb1"
      },
      "source": [
        "import math\n",
        "\n",
        "# Get input from the user\n",
        "try:\n",
        "  num = int(input(\"Enter a non-negative integer: \"))\n",
        "  if num < 0:\n",
        "    print(\"Factorial is not defined for negative numbers.\")\n",
        "  else:\n",
        "    print(f\"The factorial of {num} (using math.factorial) is {math.factorial(num)}\")\n",
        "except ValueError:\n",
        "  print(\"Invalid input. Please enter an integer.\")"
      ],
      "execution_count": null,
      "outputs": []
    },
    {
      "cell_type": "code",
      "metadata": {
        "id": "084ae1f6"
      },
      "source": [
        "def factorial_memoization(n, memo={}):\n",
        "  \"\"\"\n",
        "  Calculates the factorial of a non-negative integer using memoization.\n",
        "\n",
        "  Args:\n",
        "    n: A non-negative integer.\n",
        "    memo: A dictionary to store computed factorials.\n",
        "\n",
        "  Returns:\n",
        "    The factorial of n.\n",
        "  \"\"\"\n",
        "  if n < 0:\n",
        "    return \"Factorial is not defined for negative numbers.\"\n",
        "  elif n == 0:\n",
        "    return 1\n",
        "  elif n in memo:\n",
        "    return memo[n]\n",
        "  else:\n",
        "    memo[n] = n * factorial_memoization(n - 1, memo)\n",
        "    return memo[n]\n",
        "\n",
        "# Get input from the user\n",
        "try:\n",
        "  num = int(input(\"Enter a non-negative integer: \"))\n",
        "  print(f\"The factorial of {num} (with memoization) is {factorial_memoization(num)}\")\n",
        "except ValueError:\n",
        "  print(\"Invalid input. Please enter an integer.\")"
      ],
      "execution_count": null,
      "outputs": []
    }
  ]
}