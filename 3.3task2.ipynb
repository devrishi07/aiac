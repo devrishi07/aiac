{
  "nbformat": 4,
  "nbformat_minor": 0,
  "metadata": {
    "colab": {
      "provenance": [],
      "authorship_tag": "ABX9TyPSoKp4S2HzemKH2aU8+HbM",
      "include_colab_link": true
    },
    "kernelspec": {
      "name": "python3",
      "display_name": "Python 3"
    },
    "language_info": {
      "name": "python"
    }
  },
  "cells": [
    {
      "cell_type": "markdown",
      "metadata": {
        "id": "view-in-github",
        "colab_type": "text"
      },
      "source": [
        "<a href=\"https://colab.research.google.com/github/devrishi07/aiac/blob/main/3.3task2.ipynb\" target=\"_parent\"><img src=\"https://colab.research.google.com/assets/colab-badge.svg\" alt=\"Open In Colab\"/></a>"
      ]
    },
    {
      "cell_type": "code",
      "source": [],
      "metadata": {
        "id": "coQSMeh_aqZv"
      },
      "execution_count": null,
      "outputs": []
    },
    {
      "cell_type": "code",
      "metadata": {
        "id": "bbff42c8"
      },
      "source": [
        "def sort_data(data, ascending=True):\n",
        "  \"\"\"Sorts a list of data in ascending or descending order.\n",
        "\n",
        "  Args:\n",
        "    data: The list of data to be sorted.\n",
        "    ascending: If True, sort in ascending order; otherwise, sort in descending order.\n",
        "\n",
        "  Returns:\n",
        "    A new list containing the sorted data.\n",
        "  \"\"\"\n",
        "  return sorted(data, reverse=not ascending)\n",
        "\n",
        "# Example usage\n",
        "my_list = [3, 1, 4, 1, 5, 9, 2, 6]\n",
        "sorted_list_ascending = sort_data(my_list)\n",
        "print(f\"Ascending order: {sorted_list_ascending}\")\n",
        "\n",
        "sorted_list_descending = sort_data(my_list, ascending=False)\n",
        "print(f\"Descending order: {sorted_list_descending}\")"
      ],
      "execution_count": null,
      "outputs": []
    }
  ]
}