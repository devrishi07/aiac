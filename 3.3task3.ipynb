{
  "nbformat": 4,
  "nbformat_minor": 0,
  "metadata": {
    "colab": {
      "provenance": [],
      "authorship_tag": "ABX9TyNSIMI4auOvfzUqC1KjJkHS",
      "include_colab_link": true
    },
    "kernelspec": {
      "name": "python3",
      "display_name": "Python 3"
    },
    "language_info": {
      "name": "python"
    }
  },
  "cells": [
    {
      "cell_type": "markdown",
      "metadata": {
        "id": "view-in-github",
        "colab_type": "text"
      },
      "source": [
        "<a href=\"https://colab.research.google.com/github/devrishi07/aiac/blob/main/3.3task3.ipynb\" target=\"_parent\"><img src=\"https://colab.research.google.com/assets/colab-badge.svg\" alt=\"Open In Colab\"/></a>"
      ]
    },
    {
      "cell_type": "code",
      "source": [],
      "metadata": {
        "id": "0qq4BCi9KA0m"
      },
      "execution_count": null,
      "outputs": []
    },
    {
      "cell_type": "code",
      "source": [],
      "metadata": {
        "id": "YIhO2bxsJ9WO"
      },
      "execution_count": null,
      "outputs": []
    },
    {
      "cell_type": "markdown",
      "metadata": {
        "id": "f5a6fef7"
      },
      "source": [
        "Here is the initial code to calculate a basic power bill based on usage and a fixed rate."
      ]
    },
    {
      "cell_type": "code",
      "metadata": {
        "id": "ea53a6a3"
      },
      "source": [
        "# Snippet 1: Basic power bill calculation\n",
        "\n",
        "def calculate_power_bill_basic(kwh_used, rate_per_kwh):\n",
        "  \"\"\"Calculates a basic power bill.\n",
        "\n",
        "  Args:\n",
        "    kwh_used: Kilowatt-hours used.\n",
        "    rate_per_kwh: Rate per kilowatt-hour.\n",
        "\n",
        "  Returns:\n",
        "    The total bill amount.\n",
        "  \"\"\"\n",
        "  total_bill = kwh_used * rate_per_kwh\n",
        "  return total_bill\n",
        "\n",
        "# Example usage:\n",
        "kwh = 500\n",
        "rate = 0.15\n",
        "bill = calculate_power_bill_basic(kwh, rate)\n",
        "print(f\"Basic power bill for {kwh} kWh at ${rate}/kWh: ${bill:.2f}\")"
      ],
      "execution_count": null,
      "outputs": []
    },
    {
      "cell_type": "markdown",
      "metadata": {
        "id": "67f590e9"
      },
      "source": [
        "Now, let's improve the code by adding a fixed service charge."
      ]
    },
    {
      "cell_type": "code",
      "metadata": {
        "id": "f7474545"
      },
      "source": [
        "# Snippet 2: Power bill calculation with a fixed service charge\n",
        "\n",
        "def calculate_power_bill_with_service_charge(kwh_used, rate_per_kwh, service_charge):\n",
        "  \"\"\"Calculates a power bill with a fixed service charge.\n",
        "\n",
        "  Args:\n",
        "    kwh_used: Kilowatt-hours used.\n",
        "    rate_per_kwh: Rate per kilowatt-hour.\n",
        "    service_charge: Fixed service charge.\n",
        "\n",
        "  Returns:\n",
        "    The total bill amount.\n",
        "  \"\"\"\n",
        "  energy_cost = kwh_used * rate_per_kwh\n",
        "  total_bill = energy_cost + service_charge\n",
        "  return total_bill\n",
        "\n",
        "# Example usage:\n",
        "kwh = 500\n",
        "rate = 0.15\n",
        "service_charge = 10.00\n",
        "bill = calculate_power_bill_with_service_charge(kwh, rate, service_charge)\n",
        "print(f\"Power bill with service charge for {kwh} kWh at ${rate}/kWh with ${service_charge:.2f} service charge: ${bill:.2f}\")"
      ],
      "execution_count": null,
      "outputs": []
    },
    {
      "cell_type": "markdown",
      "metadata": {
        "id": "959fc2c7"
      },
      "source": [
        "Next, we can improve it further by introducing tiered pricing based on usage."
      ]
    },
    {
      "cell_type": "code",
      "metadata": {
        "id": "97be32fd"
      },
      "source": [
        "# Snippet 3: Power bill calculation with tiered pricing\n",
        "\n",
        "def calculate_power_bill_tiered(kwh_used, tiers):\n",
        "  \"\"\"Calculates a power bill with tiered pricing.\n",
        "\n",
        "  Args:\n",
        "    kwh_used: Kilowatt-hours used.\n",
        "    tiers: A list of tuples, where each tuple is (kwh_limit, rate).\n",
        "           The first tier has a limit of the first value and uses the second value as rate,\n",
        "           subsequent tiers apply to usage above the previous tier's limit.\n",
        "\n",
        "  Returns:\n",
        "    The total bill amount.\n",
        "  \"\"\"\n",
        "  total_bill = 0\n",
        "  remaining_kwh = kwh_used\n",
        "  previous_limit = 0\n",
        "\n",
        "  for limit, rate in tiers:\n",
        "    if remaining_kwh <= 0:\n",
        "      break\n",
        "\n",
        "    kwh_in_tier = min(remaining_kwh, limit - previous_limit)\n",
        "    total_bill += kwh_in_tier * rate\n",
        "    remaining_kwh -= kwh_in_tier\n",
        "    previous_limit = limit\n",
        "\n",
        "  # If there's usage above the last tier, apply the rate of the last tier\n",
        "  if remaining_kwh > 0 and len(tiers) > 0:\n",
        "      last_tier_rate = tiers[-1][1]\n",
        "      total_bill += remaining_kwh * last_tier_rate\n",
        "\n",
        "  return total_bill\n",
        "\n",
        "# Example usage:\n",
        "kwh = 700\n",
        "tiers = [(300, 0.10), (600, 0.12), (float('inf'), 0.15)] # Example tiers: first 300 kWh at $0.10, next 300 kWh at $0.12, remaining at $0.15\n",
        "bill = calculate_power_bill_tiered(kwh, tiers)\n",
        "print(f\"Power bill with tiered pricing for {kwh} kWh: ${bill:.2f}\")"
      ],
      "execution_count": null,
      "outputs": []
    },
    {
      "cell_type": "markdown",
      "metadata": {
        "id": "490e2b4a"
      },
      "source": [
        "Finally, here's a snippet that combines tiered pricing and a service charge."
      ]
    },
    {
      "cell_type": "code",
      "metadata": {
        "id": "734b252b"
      },
      "source": [
        "# Snippet 4: Power bill calculation with tiered pricing and service charge\n",
        "\n",
        "def calculate_power_bill_combined(kwh_used, tiers, service_charge):\n",
        "  \"\"\"Calculates a power bill with tiered pricing and a fixed service charge.\n",
        "\n",
        "  Args:\n",
        "    kwh_used: Kilowatt-hours used.\n",
        "    tiers: A list of tuples, where each tuple is (kwh_limit, rate).\n",
        "    service_charge: Fixed service charge.\n",
        "\n",
        "  Returns:\n",
        "    The total bill amount.\n",
        "  \"\"\"\n",
        "  energy_cost = 0\n",
        "  remaining_kwh = kwh_used\n",
        "  previous_limit = 0\n",
        "\n",
        "  for limit, rate in tiers:\n",
        "    if remaining_kwh <= 0:\n",
        "      break\n",
        "\n",
        "    kwh_in_tier = min(remaining_kwh, limit - previous_limit)\n",
        "    energy_cost += kwh_in_tier * rate\n",
        "    remaining_kwh -= kwh_in_tier\n",
        "    previous_limit = limit\n",
        "\n",
        "  # If there's usage above the last tier, apply the rate of the last tier\n",
        "  if remaining_kwh > 0 and len(tiers) > 0:\n",
        "      last_tier_rate = tiers[-1][1]\n",
        "      energy_cost += remaining_kwh * last_tier_rate\n",
        "\n",
        "  total_bill = energy_cost + service_charge\n",
        "  return total_bill\n",
        "\n",
        "# Example usage:\n",
        "kwh = 700\n",
        "tiers = [(300, 0.10), (600, 0.12), (float('inf'), 0.15)]\n",
        "service_charge = 10.00\n",
        "bill = calculate_power_bill_combined(kwh, tiers, service_charge)\n",
        "print(f\"Power bill with tiered pricing and service charge for {kwh} kWh: ${bill:.2f}\")"
      ],
      "execution_count": null,
      "outputs": []
    }
  ]
}